{
 "cells": [
  {
   "cell_type": "code",
   "execution_count": 1,
   "metadata": {},
   "outputs": [],
   "source": [
    "import pandas as pd"
   ]
  },
  {
   "cell_type": "code",
   "execution_count": 2,
   "metadata": {},
   "outputs": [],
   "source": [
    "def henkan(nen):\n",
    "    df = pd.read_csv(f\"mooncal{nen}.csv\",encoding=\"sjis\")\n",
    "    df[\"月日\"] = f\"{nen}/\" + df[\"月日\"]\n",
    "    df[\"月日\"] = pd.to_datetime(df[\"月日\"], format=\"%Y/%m/%d\")\n",
    "    return df"
   ]
  },
  {
   "cell_type": "code",
   "execution_count": 3,
   "metadata": {},
   "outputs": [],
   "source": [
    "a = [\n",
    "    2008,\n",
    "    2009,\n",
    "    2010,\n",
    "    2011,\n",
    "    2012,\n",
    "    2013,\n",
    "    2014,\n",
    "    2015,\n",
    "    2016,\n",
    "    2017,\n",
    "    2018,\n",
    "    2019,\n",
    "    2020\n",
    "]\n",
    "\n",
    "arr = []\n",
    "\n",
    "for v in a:\n",
    "    arr.append(henkan(v))"
   ]
  },
  {
   "cell_type": "code",
   "execution_count": 4,
   "metadata": {},
   "outputs": [
    {
     "data": {
      "text/plain": [
       "13"
      ]
     },
     "execution_count": 4,
     "metadata": {},
     "output_type": "execute_result"
    }
   ],
   "source": [
    "len(arr)"
   ]
  },
  {
   "cell_type": "code",
   "execution_count": 5,
   "metadata": {},
   "outputs": [],
   "source": [
    "df = pd.concat([\n",
    "    arr[0],\n",
    "    arr[1],\n",
    "    arr[2],\n",
    "    arr[3],\n",
    "    arr[4],\n",
    "    arr[5],\n",
    "    arr[6],\n",
    "    arr[7],\n",
    "    arr[8],\n",
    "    arr[9],\n",
    "    arr[10],\n",
    "    arr[11],\n",
    "    arr[12]\n",
    "])"
   ]
  },
  {
   "cell_type": "code",
   "execution_count": 6,
   "metadata": {},
   "outputs": [
    {
     "data": {
      "text/html": [
       "<div>\n",
       "<style scoped>\n",
       "    .dataframe tbody tr th:only-of-type {\n",
       "        vertical-align: middle;\n",
       "    }\n",
       "\n",
       "    .dataframe tbody tr th {\n",
       "        vertical-align: top;\n",
       "    }\n",
       "\n",
       "    .dataframe thead th {\n",
       "        text-align: right;\n",
       "    }\n",
       "</style>\n",
       "<table border=\"1\" class=\"dataframe\">\n",
       "  <thead>\n",
       "    <tr style=\"text-align: right;\">\n",
       "      <th></th>\n",
       "      <th>月日</th>\n",
       "      <th>黄経差</th>\n",
       "      <th>月齢</th>\n",
       "      <th>こよみ</th>\n",
       "      <th>気象庁</th>\n",
       "      <th>MIRC</th>\n",
       "    </tr>\n",
       "  </thead>\n",
       "  <tbody>\n",
       "    <tr>\n",
       "      <th>0</th>\n",
       "      <td>2008-01-01</td>\n",
       "      <td>278.77</td>\n",
       "      <td>22.39</td>\n",
       "      <td>小潮</td>\n",
       "      <td>小潮</td>\n",
       "      <td>小潮</td>\n",
       "    </tr>\n",
       "    <tr>\n",
       "      <th>1</th>\n",
       "      <td>2008-01-02</td>\n",
       "      <td>289.65</td>\n",
       "      <td>23.39</td>\n",
       "      <td>小潮</td>\n",
       "      <td>長潮</td>\n",
       "      <td>長潮</td>\n",
       "    </tr>\n",
       "    <tr>\n",
       "      <th>2</th>\n",
       "      <td>2008-01-03</td>\n",
       "      <td>300.47</td>\n",
       "      <td>24.39</td>\n",
       "      <td>小潮</td>\n",
       "      <td>若潮</td>\n",
       "      <td>若潮</td>\n",
       "    </tr>\n",
       "    <tr>\n",
       "      <th>3</th>\n",
       "      <td>2008-01-04</td>\n",
       "      <td>311.32</td>\n",
       "      <td>25.39</td>\n",
       "      <td>長潮</td>\n",
       "      <td>若潮</td>\n",
       "      <td>中潮</td>\n",
       "    </tr>\n",
       "    <tr>\n",
       "      <th>4</th>\n",
       "      <td>2008-01-05</td>\n",
       "      <td>322.24</td>\n",
       "      <td>26.39</td>\n",
       "      <td>若潮</td>\n",
       "      <td>中潮</td>\n",
       "      <td>中潮</td>\n",
       "    </tr>\n",
       "    <tr>\n",
       "      <th>...</th>\n",
       "      <td>...</td>\n",
       "      <td>...</td>\n",
       "      <td>...</td>\n",
       "      <td>...</td>\n",
       "      <td>...</td>\n",
       "      <td>...</td>\n",
       "    </tr>\n",
       "    <tr>\n",
       "      <th>361</th>\n",
       "      <td>2020-12-27</td>\n",
       "      <td>145.92</td>\n",
       "      <td>12.45</td>\n",
       "      <td>中潮</td>\n",
       "      <td>中潮</td>\n",
       "      <td>中潮</td>\n",
       "    </tr>\n",
       "    <tr>\n",
       "      <th>362</th>\n",
       "      <td>2020-12-28</td>\n",
       "      <td>157.00</td>\n",
       "      <td>13.45</td>\n",
       "      <td>中潮</td>\n",
       "      <td>中潮</td>\n",
       "      <td>中潮</td>\n",
       "    </tr>\n",
       "    <tr>\n",
       "      <th>363</th>\n",
       "      <td>2020-12-29</td>\n",
       "      <td>168.28</td>\n",
       "      <td>14.45</td>\n",
       "      <td>大潮</td>\n",
       "      <td>大潮</td>\n",
       "      <td>大潮</td>\n",
       "    </tr>\n",
       "    <tr>\n",
       "      <th>364</th>\n",
       "      <td>2020-12-30</td>\n",
       "      <td>179.77</td>\n",
       "      <td>15.45</td>\n",
       "      <td>大潮</td>\n",
       "      <td>大潮</td>\n",
       "      <td>大潮</td>\n",
       "    </tr>\n",
       "    <tr>\n",
       "      <th>365</th>\n",
       "      <td>2020-12-31</td>\n",
       "      <td>191.50</td>\n",
       "      <td>16.45</td>\n",
       "      <td>大潮</td>\n",
       "      <td>大潮</td>\n",
       "      <td>大潮</td>\n",
       "    </tr>\n",
       "  </tbody>\n",
       "</table>\n",
       "<p>4749 rows × 6 columns</p>\n",
       "</div>"
      ],
      "text/plain": [
       "            月日     黄経差     月齢 こよみ 気象庁 MIRC\n",
       "0   2008-01-01  278.77  22.39  小潮  小潮   小潮\n",
       "1   2008-01-02  289.65  23.39  小潮  長潮   長潮\n",
       "2   2008-01-03  300.47  24.39  小潮  若潮   若潮\n",
       "3   2008-01-04  311.32  25.39  長潮  若潮   中潮\n",
       "4   2008-01-05  322.24  26.39  若潮  中潮   中潮\n",
       "..         ...     ...    ...  ..  ..  ...\n",
       "361 2020-12-27  145.92  12.45  中潮  中潮   中潮\n",
       "362 2020-12-28  157.00  13.45  中潮  中潮   中潮\n",
       "363 2020-12-29  168.28  14.45  大潮  大潮   大潮\n",
       "364 2020-12-30  179.77  15.45  大潮  大潮   大潮\n",
       "365 2020-12-31  191.50  16.45  大潮  大潮   大潮\n",
       "\n",
       "[4749 rows x 6 columns]"
      ]
     },
     "execution_count": 6,
     "metadata": {},
     "output_type": "execute_result"
    }
   ],
   "source": [
    "df"
   ]
  },
  {
   "cell_type": "code",
   "execution_count": 7,
   "metadata": {},
   "outputs": [],
   "source": [
    "df[[\"月日\",\"月齢\"]].to_pickle(\"月齢.pkl\")"
   ]
  }
 ],
 "metadata": {
  "kernelspec": {
   "display_name": "Python 3",
   "language": "python",
   "name": "python3"
  },
  "language_info": {
   "codemirror_mode": {
    "name": "ipython",
    "version": 3
   },
   "file_extension": ".py",
   "mimetype": "text/x-python",
   "name": "python",
   "nbconvert_exporter": "python",
   "pygments_lexer": "ipython3",
   "version": "3.7.6"
  }
 },
 "nbformat": 4,
 "nbformat_minor": 4
}
